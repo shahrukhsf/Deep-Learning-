{
 "cells": [
  {
   "cell_type": "markdown",
   "metadata": {},
   "source": [
    "Using deep neural networks to train SDCs:\n",
    "* Called behavioural cloning \n",
    "* or end-to-end learning because the network is learning to predict the correct steering angle and speed using only the inputs from the sensors.\n",
    "\n",
    "Deep Learning vs Robotic approach:\n",
    "* Both approaches are being used\n",
    "* Robotic approach involves detailed knowledge about sensors, controls and planning\n",
    "* DL allows us to build a feedback loop.\n",
    "\n"
   ]
  }
 ],
 "metadata": {
  "kernelspec": {
   "display_name": "Python 3",
   "language": "python",
   "name": "python3"
  },
  "language_info": {
   "codemirror_mode": {
    "name": "ipython",
    "version": 3
   },
   "file_extension": ".py",
   "mimetype": "text/x-python",
   "name": "python",
   "nbconvert_exporter": "python",
   "pygments_lexer": "ipython3",
   "version": "3.5.1"
  }
 },
 "nbformat": 4,
 "nbformat_minor": 0
}
